{
 "cells": [
  {
   "cell_type": "markdown",
   "id": "3fbba3e7",
   "metadata": {},
   "source": [
    "# uSID allocation computation tool\n",
    "This notebook proposes a uSID allocation computation tool."
   ]
  },
  {
   "cell_type": "markdown",
   "id": "800a2b20",
   "metadata": {},
   "source": [
    "- The uSID Block limitations are different for DNX1 platforms. Specify here if a DNX1 platform is used."
   ]
  },
  {
   "cell_type": "code",
   "execution_count": 15,
   "id": "37cdfc6f",
   "metadata": {},
   "outputs": [
    {
     "name": "stdout",
     "output_type": "stream",
     "text": [
      "DNX1 platform? (y/n - default: y): \n",
      "DNX1 platform?: yes\n"
     ]
    }
   ],
   "source": [
    "import ipaddress\n",
    "\n",
    "is_dnx1 = input('DNX1 platform? (y/n - default: y): ' or 'y')\n",
    "if is_dnx1 in 'yY':\n",
    "    is_dnx1 = True\n",
    "else:\n",
    "    is_dnx1 = False\n",
    "print(f'DNX1 platform?: {\"yes\" if is_dnx1 else \"no\"}')"
   ]
  },
  {
   "cell_type": "markdown",
   "id": "cbc38361",
   "metadata": {},
   "source": [
    "----\n",
    "- Specify the SID format. Currently only uSID format F3216 is supported."
   ]
  },
  {
   "cell_type": "code",
   "execution_count": 16,
   "id": "f5b75eb6",
   "metadata": {},
   "outputs": [
    {
     "name": "stdout",
     "output_type": "stream",
     "text": [
      "SID format (default: f3216): \n",
      "SID format: f3216\n"
     ]
    }
   ],
   "source": [
    "sid_format = input('SID format (default: f3216): ').lower() or 'f3216'\n",
    "if sid_format == 'f3216':\n",
    "    block_size = 32\n",
    "    usid_size = 16\n",
    "else:\n",
    "    raise Exception (f'Unknown SID format \"{sid_format}\"')\n",
    "print(f'SID format: {sid_format}')"
   ]
  },
  {
   "cell_type": "markdown",
   "id": "e4884e9f",
   "metadata": {},
   "source": [
    "----\n",
    "- Specify the SRv6 Space as an IPv6 prefix. Prefix length must be within range \\[ block_size-8, block_size-1 \\]."
   ]
  },
  {
   "cell_type": "code",
   "execution_count": 17,
   "id": "34ed2fc3",
   "metadata": {},
   "outputs": [
    {
     "name": "stdout",
     "output_type": "stream",
     "text": [
      "SRv6 Space (default: fcbb:bb00::/24): \n",
      "SRv6 Space: fcbb:bb00::/24\n"
     ]
    }
   ],
   "source": [
    "srv6_space = ipaddress.IPv6Network(input('SRv6 Space (default: fcbb:bb00::/24): ') or 'fcbb:bb00::/24')\n",
    "assert srv6_space.prefixlen >= block_size - 8 and srv6_space.prefixlen <= block_size, \\\n",
    "    f'Invalid SRv6 Space prefix length (<{block_size - 8} or >{block_size})'\n",
    "# check if bits 24 and 25 (for F3216) are 0 for DNX1\n",
    "if is_dnx1:\n",
    "    assert (int(srv6_space.network_address) >> (128 - block_size + 6) & 3) == 0, \\\n",
    "        f'DNX1 requires bits {block_size - 8}, {block_size - 7} for this format being zero'\n",
    "print(f'SRv6 Space: {srv6_space}')"
   ]
  },
  {
   "cell_type": "markdown",
   "id": "e9b33017",
   "metadata": {},
   "source": [
    "----\n",
    "- Show the number of Blocks in this SRv6 Space, taking the platform limitation into account."
   ]
  },
  {
   "cell_type": "code",
   "execution_count": 18,
   "id": "c51bac9e",
   "metadata": {},
   "outputs": [
    {
     "name": "stdout",
     "output_type": "stream",
     "text": [
      "Number of Blocks: 63\n"
     ]
    }
   ],
   "source": [
    "bits_for_blocks = block_size - srv6_space.prefixlen\n",
    "nr_of_blocks = 2**bits_for_blocks\n",
    "if is_dnx1:\n",
    "    # DNX1 supports 64 Blocks, but the last Block is used for SRTE recycling => 63 Blocks left\n",
    "    bits_for_blocks = min(6, bits_for_blocks)\n",
    "    nr_of_blocks = min(63, nr_of_blocks)\n",
    "print(f'Number of Blocks: {nr_of_blocks}')"
   ]
  },
  {
   "cell_type": "markdown",
   "id": "78568d9d",
   "metadata": {},
   "source": [
    "----\n",
    "- Specify how many algorithms will be used. The number of algorithms must be a multiple of two (2, 4, 8, 16) since this will result in a common prefix grouping Blocks, one of each algo.\n",
    "    - The algo will be encoded in the LSBs of the Block prefix.\n",
    "- Each algo must get the same number of Blocks, which may result in leftover Blocks if the number of Blocks is not divisble by the number of algos."
   ]
  },
  {
   "cell_type": "code",
   "execution_count": 19,
   "id": "7cbed787",
   "metadata": {
    "scrolled": false
   },
   "outputs": [
    {
     "name": "stdout",
     "output_type": "stream",
     "text": [
      "Number of algos (default: 2): \n",
      "Number of algos: 2\n",
      "Number of Blocks per algo: 31\n",
      "Number of leftover/unusable Blocks: 1\n"
     ]
    }
   ],
   "source": [
    "nr_of_algos = int(input('Number of algos (default: 2): ') or 2)\n",
    "assert nr_of_algos > 0, \"Number of algos must be at least 1\"\n",
    "assert nr_of_algos & (nr_of_algos - 1) == 0, \"Number of algos must be a power of 2\"\n",
    "assert nr_of_algos <= nr_of_blocks, \"Not enough Blocks for this number of algos\"\n",
    "print(f'Number of algos: {nr_of_algos}')\n",
    "bits_for_algos = (nr_of_algos).bit_length()-1\n",
    "nr_of_blocks_per_algo = nr_of_blocks // nr_of_algos\n",
    "print(f'Number of Blocks per algo: {nr_of_blocks_per_algo}')\n",
    "if nr_of_blocks % nr_of_algos:\n",
    "    print(f'Number of leftover/unusable Blocks: {nr_of_blocks % nr_of_algos}')"
   ]
  },
  {
   "cell_type": "markdown",
   "id": "6ac8e9d6",
   "metadata": {},
   "source": [
    "----\n",
    "- Specify where the algorithm bits are in the LSBs (or MSBs) of the Block ID. Default: LSB."
   ]
  },
  {
   "cell_type": "code",
   "execution_count": 20,
   "id": "acd288ea",
   "metadata": {},
   "outputs": [
    {
     "name": "stdout",
     "output_type": "stream",
     "text": [
      "algo bits in LSBs? (y/n - default: y): \n",
      "algo bits in LSBs?: yes\n"
     ]
    }
   ],
   "source": [
    "# TODO: generalize by using algo bit position\n",
    "algo_in_lsb = input('algo bits in LSBs? (y/n - default: y): ' or 'y')\n",
    "if algo_in_lsb in 'yY':\n",
    "    algo_in_lsb = True\n",
    "else:\n",
    "    algo_in_lsb = False\n",
    "print(f'algo bits in LSBs?: {\"yes\" if algo_in_lsb else \"no\"}')"
   ]
  },
  {
   "cell_type": "markdown",
   "id": "56a31717",
   "metadata": {},
   "source": [
    "----\n",
    "- List the Block prefixes in this SRv6 Space per algo."
   ]
  },
  {
   "cell_type": "code",
   "execution_count": 21,
   "id": "758ab83a",
   "metadata": {},
   "outputs": [
    {
     "name": "stdout",
     "output_type": "stream",
     "text": [
      "Blocks for Algo 0\n",
      "------------------\n",
      "Block ID [0]: fcbb:bb00::/32\n",
      "Block ID [2]: fcbb:bb02::/32\n",
      "Block ID [4]: fcbb:bb04::/32\n",
      "Block ID [6]: fcbb:bb06::/32\n",
      "Block ID [8]: fcbb:bb08::/32\n",
      "Block ID [10]: fcbb:bb0a::/32\n",
      "Block ID [12]: fcbb:bb0c::/32\n",
      "Block ID [14]: fcbb:bb0e::/32\n",
      "Block ID [16]: fcbb:bb10::/32\n",
      "Block ID [18]: fcbb:bb12::/32\n",
      "Block ID [20]: fcbb:bb14::/32\n",
      "Block ID [22]: fcbb:bb16::/32\n",
      "Block ID [24]: fcbb:bb18::/32\n",
      "Block ID [26]: fcbb:bb1a::/32\n",
      "Block ID [28]: fcbb:bb1c::/32\n",
      "Block ID [30]: fcbb:bb1e::/32\n",
      "Block ID [32]: fcbb:bb20::/32\n",
      "Block ID [34]: fcbb:bb22::/32\n",
      "Block ID [36]: fcbb:bb24::/32\n",
      "Block ID [38]: fcbb:bb26::/32\n",
      "Block ID [40]: fcbb:bb28::/32\n",
      "Block ID [42]: fcbb:bb2a::/32\n",
      "Block ID [44]: fcbb:bb2c::/32\n",
      "Block ID [46]: fcbb:bb2e::/32\n",
      "Block ID [48]: fcbb:bb30::/32\n",
      "Block ID [50]: fcbb:bb32::/32\n",
      "Block ID [52]: fcbb:bb34::/32\n",
      "Block ID [54]: fcbb:bb36::/32\n",
      "Block ID [56]: fcbb:bb38::/32\n",
      "Block ID [58]: fcbb:bb3a::/32\n",
      "Block ID [60]: fcbb:bb3c::/32\n",
      "\n",
      "Blocks for Algo 1\n",
      "------------------\n",
      "Block ID [1]: fcbb:bb01::/32\n",
      "Block ID [3]: fcbb:bb03::/32\n",
      "Block ID [5]: fcbb:bb05::/32\n",
      "Block ID [7]: fcbb:bb07::/32\n",
      "Block ID [9]: fcbb:bb09::/32\n",
      "Block ID [11]: fcbb:bb0b::/32\n",
      "Block ID [13]: fcbb:bb0d::/32\n",
      "Block ID [15]: fcbb:bb0f::/32\n",
      "Block ID [17]: fcbb:bb11::/32\n",
      "Block ID [19]: fcbb:bb13::/32\n",
      "Block ID [21]: fcbb:bb15::/32\n",
      "Block ID [23]: fcbb:bb17::/32\n",
      "Block ID [25]: fcbb:bb19::/32\n",
      "Block ID [27]: fcbb:bb1b::/32\n",
      "Block ID [29]: fcbb:bb1d::/32\n",
      "Block ID [31]: fcbb:bb1f::/32\n",
      "Block ID [33]: fcbb:bb21::/32\n",
      "Block ID [35]: fcbb:bb23::/32\n",
      "Block ID [37]: fcbb:bb25::/32\n",
      "Block ID [39]: fcbb:bb27::/32\n",
      "Block ID [41]: fcbb:bb29::/32\n",
      "Block ID [43]: fcbb:bb2b::/32\n",
      "Block ID [45]: fcbb:bb2d::/32\n",
      "Block ID [47]: fcbb:bb2f::/32\n",
      "Block ID [49]: fcbb:bb31::/32\n",
      "Block ID [51]: fcbb:bb33::/32\n",
      "Block ID [53]: fcbb:bb35::/32\n",
      "Block ID [55]: fcbb:bb37::/32\n",
      "Block ID [57]: fcbb:bb39::/32\n",
      "Block ID [59]: fcbb:bb3b::/32\n",
      "Block ID [61]: fcbb:bb3d::/32\n",
      "\n"
     ]
    }
   ],
   "source": [
    "for algo_to_print in range(nr_of_algos):\n",
    "    if algo_to_print is None:\n",
    "        print(f'All available Blocks')\n",
    "        print(f'--------------------')\n",
    "    else:\n",
    "        print(f'Blocks for Algo {algo_to_print}')\n",
    "        print(f'------------------')        \n",
    "    algo_count = [0]*nr_of_algos\n",
    "    for idx, block in enumerate(srv6_space.subnets(new_prefix=block_size)):\n",
    "        # which algo?\n",
    "        # TODO: generalize by using algo bit position\n",
    "        if algo_in_lsb:\n",
    "            algo = idx & (nr_of_algos - 1)\n",
    "        else:\n",
    "            algo = (idx >> (bits_for_blocks - bits_for_algos)) & (nr_of_algos - 1)\n",
    "        algo_count[algo] += 1\n",
    "        # reach max number of Blocks per algo?\n",
    "        if algo_count[algo] > (nr_of_blocks // nr_of_algos):\n",
    "            algo = \"leftover\"\n",
    "        if algo_to_print is None:\n",
    "            print(f'Block ID [{idx}] Algo ID [{algo}]: {block}')\n",
    "        elif algo_to_print == algo:\n",
    "            print(f'Block ID [{idx}]: {block}')\n",
    "        if idx >= nr_of_blocks-1:\n",
    "            break\n",
    "    print()"
   ]
  },
  {
   "cell_type": "markdown",
   "id": "8c37f893",
   "metadata": {},
   "source": [
    "----\n",
    "- Specify the Set prefix length. This length is a trade-off between allocation granularity and summarization gain. Typically /40 Sets are used. A general recommendation for IPv6 prefix allocation is to align to nibble boundaries (i.e., for Sets: /36, /40, /44) for reasons of human legibility of the prefix."
   ]
  },
  {
   "cell_type": "code",
   "execution_count": 22,
   "id": "f1551939",
   "metadata": {},
   "outputs": [
    {
     "name": "stdout",
     "output_type": "stream",
     "text": [
      "Set prefix length (default: 40): \n",
      "Set prefix length: 40\n"
     ]
    }
   ],
   "source": [
    "set_size = int(input('Set prefix length (default: 40): ') or 40)\n",
    "assert set_size >= block_size + 3, \"Set Size too small\"\n",
    "sets_per_block = 2 ** (set_size - block_size)\n",
    "print(f'Set prefix length: {set_size}')"
   ]
  },
  {
   "cell_type": "markdown",
   "id": "c56f6d7f",
   "metadata": {},
   "source": [
    "----\n",
    "- Compute the Set prefixes. Display the number of available Sets in GIB and the number of uSIDs per Set. Use the IOS XR default GIB/LIB sub-division (LIB uSIDs have 3 MSBs = 111)."
   ]
  },
  {
   "cell_type": "code",
   "execution_count": 23,
   "id": "223bf06d",
   "metadata": {},
   "outputs": [
    {
     "name": "stdout",
     "output_type": "stream",
     "text": [
      "Total Sets per Block (incl. LIB): 256\n",
      "Sets per GIB: 224\n",
      "uSIDs per set: 256\n"
     ]
    }
   ],
   "source": [
    "sets_per_block = 2 ** (set_size - block_size)\n",
    "sets_per_gib = 0\n",
    "for i in range(sets_per_block):\n",
    "    if i >> (set_size - block_size - 3) & 7 == 7:\n",
    "        # assume default GIB/LIB\n",
    "        # LIB contains SIDs with 3 MSBs = 111\n",
    "        sets_per_gib = i\n",
    "        break\n",
    "usids_per_set = 2 ** (usid_size - (set_size - block_size))\n",
    "\n",
    "print(f'Total Sets per Block (incl. LIB): {sets_per_block}')\n",
    "print(f'Sets per GIB: {sets_per_gib}')\n",
    "print(f'uSIDs per set: {usids_per_set}')"
   ]
  },
  {
   "cell_type": "markdown",
   "id": "67ded843",
   "metadata": {},
   "source": [
    "----\n",
    "- Display the Set prefixes of the first Block (as example). The Set prefixes for the other Blocks are similar (typically the same Set prefix length is used). Per Set, display first and last uSID prefix."
   ]
  },
  {
   "cell_type": "code",
   "execution_count": 24,
   "id": "ad1d63c2",
   "metadata": {},
   "outputs": [
    {
     "name": "stdout",
     "output_type": "stream",
     "text": [
      "Set allocation example for Block [0] (fcbb:bb00::/32)\n",
      "Set [0] fcbb:bb00::/40 - uSIDs fcbb:bb00:: to fcbb:bb00:ff::\n",
      "Set [1] fcbb:bb00:100::/40 - uSIDs fcbb:bb00:100:: to fcbb:bb00:1ff::\n",
      "Set [2] fcbb:bb00:200::/40 - uSIDs fcbb:bb00:200:: to fcbb:bb00:2ff::\n",
      "Set [3] fcbb:bb00:300::/40 - uSIDs fcbb:bb00:300:: to fcbb:bb00:3ff::\n",
      "Set [4] fcbb:bb00:400::/40 - uSIDs fcbb:bb00:400:: to fcbb:bb00:4ff::\n",
      "Set [5] fcbb:bb00:500::/40 - uSIDs fcbb:bb00:500:: to fcbb:bb00:5ff::\n",
      "Set [6] fcbb:bb00:600::/40 - uSIDs fcbb:bb00:600:: to fcbb:bb00:6ff::\n",
      "Set [7] fcbb:bb00:700::/40 - uSIDs fcbb:bb00:700:: to fcbb:bb00:7ff::\n",
      "Set [8] fcbb:bb00:800::/40 - uSIDs fcbb:bb00:800:: to fcbb:bb00:8ff::\n",
      "Set [9] fcbb:bb00:900::/40 - uSIDs fcbb:bb00:900:: to fcbb:bb00:9ff::\n",
      "Set [10] fcbb:bb00:a00::/40 - uSIDs fcbb:bb00:a00:: to fcbb:bb00:aff::\n",
      "Set [11] fcbb:bb00:b00::/40 - uSIDs fcbb:bb00:b00:: to fcbb:bb00:bff::\n",
      "Set [12] fcbb:bb00:c00::/40 - uSIDs fcbb:bb00:c00:: to fcbb:bb00:cff::\n",
      "Set [13] fcbb:bb00:d00::/40 - uSIDs fcbb:bb00:d00:: to fcbb:bb00:dff::\n",
      "Set [14] fcbb:bb00:e00::/40 - uSIDs fcbb:bb00:e00:: to fcbb:bb00:eff::\n",
      "Set [15] fcbb:bb00:f00::/40 - uSIDs fcbb:bb00:f00:: to fcbb:bb00:fff::\n",
      "Set [16] fcbb:bb00:1000::/40 - uSIDs fcbb:bb00:1000:: to fcbb:bb00:10ff::\n",
      "Set [17] fcbb:bb00:1100::/40 - uSIDs fcbb:bb00:1100:: to fcbb:bb00:11ff::\n",
      "Set [18] fcbb:bb00:1200::/40 - uSIDs fcbb:bb00:1200:: to fcbb:bb00:12ff::\n",
      "Set [19] fcbb:bb00:1300::/40 - uSIDs fcbb:bb00:1300:: to fcbb:bb00:13ff::\n",
      "Set [20] fcbb:bb00:1400::/40 - uSIDs fcbb:bb00:1400:: to fcbb:bb00:14ff::\n",
      "Set [21] fcbb:bb00:1500::/40 - uSIDs fcbb:bb00:1500:: to fcbb:bb00:15ff::\n",
      "Set [22] fcbb:bb00:1600::/40 - uSIDs fcbb:bb00:1600:: to fcbb:bb00:16ff::\n",
      "Set [23] fcbb:bb00:1700::/40 - uSIDs fcbb:bb00:1700:: to fcbb:bb00:17ff::\n",
      "Set [24] fcbb:bb00:1800::/40 - uSIDs fcbb:bb00:1800:: to fcbb:bb00:18ff::\n",
      "Set [25] fcbb:bb00:1900::/40 - uSIDs fcbb:bb00:1900:: to fcbb:bb00:19ff::\n",
      "Set [26] fcbb:bb00:1a00::/40 - uSIDs fcbb:bb00:1a00:: to fcbb:bb00:1aff::\n",
      "Set [27] fcbb:bb00:1b00::/40 - uSIDs fcbb:bb00:1b00:: to fcbb:bb00:1bff::\n",
      "Set [28] fcbb:bb00:1c00::/40 - uSIDs fcbb:bb00:1c00:: to fcbb:bb00:1cff::\n",
      "Set [29] fcbb:bb00:1d00::/40 - uSIDs fcbb:bb00:1d00:: to fcbb:bb00:1dff::\n",
      "Set [30] fcbb:bb00:1e00::/40 - uSIDs fcbb:bb00:1e00:: to fcbb:bb00:1eff::\n",
      "Set [31] fcbb:bb00:1f00::/40 - uSIDs fcbb:bb00:1f00:: to fcbb:bb00:1fff::\n",
      "Set [32] fcbb:bb00:2000::/40 - uSIDs fcbb:bb00:2000:: to fcbb:bb00:20ff::\n",
      "Set [33] fcbb:bb00:2100::/40 - uSIDs fcbb:bb00:2100:: to fcbb:bb00:21ff::\n",
      "Set [34] fcbb:bb00:2200::/40 - uSIDs fcbb:bb00:2200:: to fcbb:bb00:22ff::\n",
      "Set [35] fcbb:bb00:2300::/40 - uSIDs fcbb:bb00:2300:: to fcbb:bb00:23ff::\n",
      "Set [36] fcbb:bb00:2400::/40 - uSIDs fcbb:bb00:2400:: to fcbb:bb00:24ff::\n",
      "Set [37] fcbb:bb00:2500::/40 - uSIDs fcbb:bb00:2500:: to fcbb:bb00:25ff::\n",
      "Set [38] fcbb:bb00:2600::/40 - uSIDs fcbb:bb00:2600:: to fcbb:bb00:26ff::\n",
      "Set [39] fcbb:bb00:2700::/40 - uSIDs fcbb:bb00:2700:: to fcbb:bb00:27ff::\n",
      "Set [40] fcbb:bb00:2800::/40 - uSIDs fcbb:bb00:2800:: to fcbb:bb00:28ff::\n",
      "Set [41] fcbb:bb00:2900::/40 - uSIDs fcbb:bb00:2900:: to fcbb:bb00:29ff::\n",
      "Set [42] fcbb:bb00:2a00::/40 - uSIDs fcbb:bb00:2a00:: to fcbb:bb00:2aff::\n",
      "Set [43] fcbb:bb00:2b00::/40 - uSIDs fcbb:bb00:2b00:: to fcbb:bb00:2bff::\n",
      "Set [44] fcbb:bb00:2c00::/40 - uSIDs fcbb:bb00:2c00:: to fcbb:bb00:2cff::\n",
      "Set [45] fcbb:bb00:2d00::/40 - uSIDs fcbb:bb00:2d00:: to fcbb:bb00:2dff::\n",
      "Set [46] fcbb:bb00:2e00::/40 - uSIDs fcbb:bb00:2e00:: to fcbb:bb00:2eff::\n",
      "Set [47] fcbb:bb00:2f00::/40 - uSIDs fcbb:bb00:2f00:: to fcbb:bb00:2fff::\n",
      "Set [48] fcbb:bb00:3000::/40 - uSIDs fcbb:bb00:3000:: to fcbb:bb00:30ff::\n",
      "Set [49] fcbb:bb00:3100::/40 - uSIDs fcbb:bb00:3100:: to fcbb:bb00:31ff::\n",
      "Set [50] fcbb:bb00:3200::/40 - uSIDs fcbb:bb00:3200:: to fcbb:bb00:32ff::\n",
      "Set [51] fcbb:bb00:3300::/40 - uSIDs fcbb:bb00:3300:: to fcbb:bb00:33ff::\n",
      "Set [52] fcbb:bb00:3400::/40 - uSIDs fcbb:bb00:3400:: to fcbb:bb00:34ff::\n",
      "Set [53] fcbb:bb00:3500::/40 - uSIDs fcbb:bb00:3500:: to fcbb:bb00:35ff::\n",
      "Set [54] fcbb:bb00:3600::/40 - uSIDs fcbb:bb00:3600:: to fcbb:bb00:36ff::\n",
      "Set [55] fcbb:bb00:3700::/40 - uSIDs fcbb:bb00:3700:: to fcbb:bb00:37ff::\n",
      "Set [56] fcbb:bb00:3800::/40 - uSIDs fcbb:bb00:3800:: to fcbb:bb00:38ff::\n",
      "Set [57] fcbb:bb00:3900::/40 - uSIDs fcbb:bb00:3900:: to fcbb:bb00:39ff::\n",
      "Set [58] fcbb:bb00:3a00::/40 - uSIDs fcbb:bb00:3a00:: to fcbb:bb00:3aff::\n",
      "Set [59] fcbb:bb00:3b00::/40 - uSIDs fcbb:bb00:3b00:: to fcbb:bb00:3bff::\n",
      "Set [60] fcbb:bb00:3c00::/40 - uSIDs fcbb:bb00:3c00:: to fcbb:bb00:3cff::\n",
      "Set [61] fcbb:bb00:3d00::/40 - uSIDs fcbb:bb00:3d00:: to fcbb:bb00:3dff::\n",
      "Set [62] fcbb:bb00:3e00::/40 - uSIDs fcbb:bb00:3e00:: to fcbb:bb00:3eff::\n",
      "Set [63] fcbb:bb00:3f00::/40 - uSIDs fcbb:bb00:3f00:: to fcbb:bb00:3fff::\n",
      "Set [64] fcbb:bb00:4000::/40 - uSIDs fcbb:bb00:4000:: to fcbb:bb00:40ff::\n",
      "Set [65] fcbb:bb00:4100::/40 - uSIDs fcbb:bb00:4100:: to fcbb:bb00:41ff::\n",
      "Set [66] fcbb:bb00:4200::/40 - uSIDs fcbb:bb00:4200:: to fcbb:bb00:42ff::\n",
      "Set [67] fcbb:bb00:4300::/40 - uSIDs fcbb:bb00:4300:: to fcbb:bb00:43ff::\n",
      "Set [68] fcbb:bb00:4400::/40 - uSIDs fcbb:bb00:4400:: to fcbb:bb00:44ff::\n",
      "Set [69] fcbb:bb00:4500::/40 - uSIDs fcbb:bb00:4500:: to fcbb:bb00:45ff::\n",
      "Set [70] fcbb:bb00:4600::/40 - uSIDs fcbb:bb00:4600:: to fcbb:bb00:46ff::\n",
      "Set [71] fcbb:bb00:4700::/40 - uSIDs fcbb:bb00:4700:: to fcbb:bb00:47ff::\n",
      "Set [72] fcbb:bb00:4800::/40 - uSIDs fcbb:bb00:4800:: to fcbb:bb00:48ff::\n",
      "Set [73] fcbb:bb00:4900::/40 - uSIDs fcbb:bb00:4900:: to fcbb:bb00:49ff::\n",
      "Set [74] fcbb:bb00:4a00::/40 - uSIDs fcbb:bb00:4a00:: to fcbb:bb00:4aff::\n",
      "Set [75] fcbb:bb00:4b00::/40 - uSIDs fcbb:bb00:4b00:: to fcbb:bb00:4bff::\n",
      "Set [76] fcbb:bb00:4c00::/40 - uSIDs fcbb:bb00:4c00:: to fcbb:bb00:4cff::\n",
      "Set [77] fcbb:bb00:4d00::/40 - uSIDs fcbb:bb00:4d00:: to fcbb:bb00:4dff::\n",
      "Set [78] fcbb:bb00:4e00::/40 - uSIDs fcbb:bb00:4e00:: to fcbb:bb00:4eff::\n",
      "Set [79] fcbb:bb00:4f00::/40 - uSIDs fcbb:bb00:4f00:: to fcbb:bb00:4fff::\n",
      "Set [80] fcbb:bb00:5000::/40 - uSIDs fcbb:bb00:5000:: to fcbb:bb00:50ff::\n",
      "Set [81] fcbb:bb00:5100::/40 - uSIDs fcbb:bb00:5100:: to fcbb:bb00:51ff::\n",
      "Set [82] fcbb:bb00:5200::/40 - uSIDs fcbb:bb00:5200:: to fcbb:bb00:52ff::\n",
      "Set [83] fcbb:bb00:5300::/40 - uSIDs fcbb:bb00:5300:: to fcbb:bb00:53ff::\n",
      "Set [84] fcbb:bb00:5400::/40 - uSIDs fcbb:bb00:5400:: to fcbb:bb00:54ff::\n",
      "Set [85] fcbb:bb00:5500::/40 - uSIDs fcbb:bb00:5500:: to fcbb:bb00:55ff::\n",
      "Set [86] fcbb:bb00:5600::/40 - uSIDs fcbb:bb00:5600:: to fcbb:bb00:56ff::\n",
      "Set [87] fcbb:bb00:5700::/40 - uSIDs fcbb:bb00:5700:: to fcbb:bb00:57ff::\n",
      "Set [88] fcbb:bb00:5800::/40 - uSIDs fcbb:bb00:5800:: to fcbb:bb00:58ff::\n",
      "Set [89] fcbb:bb00:5900::/40 - uSIDs fcbb:bb00:5900:: to fcbb:bb00:59ff::\n",
      "Set [90] fcbb:bb00:5a00::/40 - uSIDs fcbb:bb00:5a00:: to fcbb:bb00:5aff::\n",
      "Set [91] fcbb:bb00:5b00::/40 - uSIDs fcbb:bb00:5b00:: to fcbb:bb00:5bff::\n",
      "Set [92] fcbb:bb00:5c00::/40 - uSIDs fcbb:bb00:5c00:: to fcbb:bb00:5cff::\n",
      "Set [93] fcbb:bb00:5d00::/40 - uSIDs fcbb:bb00:5d00:: to fcbb:bb00:5dff::\n",
      "Set [94] fcbb:bb00:5e00::/40 - uSIDs fcbb:bb00:5e00:: to fcbb:bb00:5eff::\n",
      "Set [95] fcbb:bb00:5f00::/40 - uSIDs fcbb:bb00:5f00:: to fcbb:bb00:5fff::\n",
      "Set [96] fcbb:bb00:6000::/40 - uSIDs fcbb:bb00:6000:: to fcbb:bb00:60ff::\n",
      "Set [97] fcbb:bb00:6100::/40 - uSIDs fcbb:bb00:6100:: to fcbb:bb00:61ff::\n",
      "Set [98] fcbb:bb00:6200::/40 - uSIDs fcbb:bb00:6200:: to fcbb:bb00:62ff::\n",
      "Set [99] fcbb:bb00:6300::/40 - uSIDs fcbb:bb00:6300:: to fcbb:bb00:63ff::\n",
      "Set [100] fcbb:bb00:6400::/40 - uSIDs fcbb:bb00:6400:: to fcbb:bb00:64ff::\n",
      "Set [101] fcbb:bb00:6500::/40 - uSIDs fcbb:bb00:6500:: to fcbb:bb00:65ff::\n",
      "Set [102] fcbb:bb00:6600::/40 - uSIDs fcbb:bb00:6600:: to fcbb:bb00:66ff::\n",
      "Set [103] fcbb:bb00:6700::/40 - uSIDs fcbb:bb00:6700:: to fcbb:bb00:67ff::\n",
      "Set [104] fcbb:bb00:6800::/40 - uSIDs fcbb:bb00:6800:: to fcbb:bb00:68ff::\n",
      "Set [105] fcbb:bb00:6900::/40 - uSIDs fcbb:bb00:6900:: to fcbb:bb00:69ff::\n",
      "Set [106] fcbb:bb00:6a00::/40 - uSIDs fcbb:bb00:6a00:: to fcbb:bb00:6aff::\n",
      "Set [107] fcbb:bb00:6b00::/40 - uSIDs fcbb:bb00:6b00:: to fcbb:bb00:6bff::\n",
      "Set [108] fcbb:bb00:6c00::/40 - uSIDs fcbb:bb00:6c00:: to fcbb:bb00:6cff::\n",
      "Set [109] fcbb:bb00:6d00::/40 - uSIDs fcbb:bb00:6d00:: to fcbb:bb00:6dff::\n",
      "Set [110] fcbb:bb00:6e00::/40 - uSIDs fcbb:bb00:6e00:: to fcbb:bb00:6eff::\n",
      "Set [111] fcbb:bb00:6f00::/40 - uSIDs fcbb:bb00:6f00:: to fcbb:bb00:6fff::\n",
      "Set [112] fcbb:bb00:7000::/40 - uSIDs fcbb:bb00:7000:: to fcbb:bb00:70ff::\n",
      "Set [113] fcbb:bb00:7100::/40 - uSIDs fcbb:bb00:7100:: to fcbb:bb00:71ff::\n",
      "Set [114] fcbb:bb00:7200::/40 - uSIDs fcbb:bb00:7200:: to fcbb:bb00:72ff::\n",
      "Set [115] fcbb:bb00:7300::/40 - uSIDs fcbb:bb00:7300:: to fcbb:bb00:73ff::\n",
      "Set [116] fcbb:bb00:7400::/40 - uSIDs fcbb:bb00:7400:: to fcbb:bb00:74ff::\n",
      "Set [117] fcbb:bb00:7500::/40 - uSIDs fcbb:bb00:7500:: to fcbb:bb00:75ff::\n",
      "Set [118] fcbb:bb00:7600::/40 - uSIDs fcbb:bb00:7600:: to fcbb:bb00:76ff::\n",
      "Set [119] fcbb:bb00:7700::/40 - uSIDs fcbb:bb00:7700:: to fcbb:bb00:77ff::\n",
      "Set [120] fcbb:bb00:7800::/40 - uSIDs fcbb:bb00:7800:: to fcbb:bb00:78ff::\n",
      "Set [121] fcbb:bb00:7900::/40 - uSIDs fcbb:bb00:7900:: to fcbb:bb00:79ff::\n",
      "Set [122] fcbb:bb00:7a00::/40 - uSIDs fcbb:bb00:7a00:: to fcbb:bb00:7aff::\n",
      "Set [123] fcbb:bb00:7b00::/40 - uSIDs fcbb:bb00:7b00:: to fcbb:bb00:7bff::\n",
      "Set [124] fcbb:bb00:7c00::/40 - uSIDs fcbb:bb00:7c00:: to fcbb:bb00:7cff::\n",
      "Set [125] fcbb:bb00:7d00::/40 - uSIDs fcbb:bb00:7d00:: to fcbb:bb00:7dff::\n",
      "Set [126] fcbb:bb00:7e00::/40 - uSIDs fcbb:bb00:7e00:: to fcbb:bb00:7eff::\n",
      "Set [127] fcbb:bb00:7f00::/40 - uSIDs fcbb:bb00:7f00:: to fcbb:bb00:7fff::\n",
      "Set [128] fcbb:bb00:8000::/40 - uSIDs fcbb:bb00:8000:: to fcbb:bb00:80ff::\n",
      "Set [129] fcbb:bb00:8100::/40 - uSIDs fcbb:bb00:8100:: to fcbb:bb00:81ff::\n",
      "Set [130] fcbb:bb00:8200::/40 - uSIDs fcbb:bb00:8200:: to fcbb:bb00:82ff::\n",
      "Set [131] fcbb:bb00:8300::/40 - uSIDs fcbb:bb00:8300:: to fcbb:bb00:83ff::\n",
      "Set [132] fcbb:bb00:8400::/40 - uSIDs fcbb:bb00:8400:: to fcbb:bb00:84ff::\n",
      "Set [133] fcbb:bb00:8500::/40 - uSIDs fcbb:bb00:8500:: to fcbb:bb00:85ff::\n",
      "Set [134] fcbb:bb00:8600::/40 - uSIDs fcbb:bb00:8600:: to fcbb:bb00:86ff::\n",
      "Set [135] fcbb:bb00:8700::/40 - uSIDs fcbb:bb00:8700:: to fcbb:bb00:87ff::\n",
      "Set [136] fcbb:bb00:8800::/40 - uSIDs fcbb:bb00:8800:: to fcbb:bb00:88ff::\n",
      "Set [137] fcbb:bb00:8900::/40 - uSIDs fcbb:bb00:8900:: to fcbb:bb00:89ff::\n",
      "Set [138] fcbb:bb00:8a00::/40 - uSIDs fcbb:bb00:8a00:: to fcbb:bb00:8aff::\n",
      "Set [139] fcbb:bb00:8b00::/40 - uSIDs fcbb:bb00:8b00:: to fcbb:bb00:8bff::\n",
      "Set [140] fcbb:bb00:8c00::/40 - uSIDs fcbb:bb00:8c00:: to fcbb:bb00:8cff::\n",
      "Set [141] fcbb:bb00:8d00::/40 - uSIDs fcbb:bb00:8d00:: to fcbb:bb00:8dff::\n",
      "Set [142] fcbb:bb00:8e00::/40 - uSIDs fcbb:bb00:8e00:: to fcbb:bb00:8eff::\n",
      "Set [143] fcbb:bb00:8f00::/40 - uSIDs fcbb:bb00:8f00:: to fcbb:bb00:8fff::\n",
      "Set [144] fcbb:bb00:9000::/40 - uSIDs fcbb:bb00:9000:: to fcbb:bb00:90ff::\n",
      "Set [145] fcbb:bb00:9100::/40 - uSIDs fcbb:bb00:9100:: to fcbb:bb00:91ff::\n",
      "Set [146] fcbb:bb00:9200::/40 - uSIDs fcbb:bb00:9200:: to fcbb:bb00:92ff::\n",
      "Set [147] fcbb:bb00:9300::/40 - uSIDs fcbb:bb00:9300:: to fcbb:bb00:93ff::\n",
      "Set [148] fcbb:bb00:9400::/40 - uSIDs fcbb:bb00:9400:: to fcbb:bb00:94ff::\n",
      "Set [149] fcbb:bb00:9500::/40 - uSIDs fcbb:bb00:9500:: to fcbb:bb00:95ff::\n",
      "Set [150] fcbb:bb00:9600::/40 - uSIDs fcbb:bb00:9600:: to fcbb:bb00:96ff::\n",
      "Set [151] fcbb:bb00:9700::/40 - uSIDs fcbb:bb00:9700:: to fcbb:bb00:97ff::\n",
      "Set [152] fcbb:bb00:9800::/40 - uSIDs fcbb:bb00:9800:: to fcbb:bb00:98ff::\n",
      "Set [153] fcbb:bb00:9900::/40 - uSIDs fcbb:bb00:9900:: to fcbb:bb00:99ff::\n",
      "Set [154] fcbb:bb00:9a00::/40 - uSIDs fcbb:bb00:9a00:: to fcbb:bb00:9aff::\n",
      "Set [155] fcbb:bb00:9b00::/40 - uSIDs fcbb:bb00:9b00:: to fcbb:bb00:9bff::\n",
      "Set [156] fcbb:bb00:9c00::/40 - uSIDs fcbb:bb00:9c00:: to fcbb:bb00:9cff::\n",
      "Set [157] fcbb:bb00:9d00::/40 - uSIDs fcbb:bb00:9d00:: to fcbb:bb00:9dff::\n",
      "Set [158] fcbb:bb00:9e00::/40 - uSIDs fcbb:bb00:9e00:: to fcbb:bb00:9eff::\n",
      "Set [159] fcbb:bb00:9f00::/40 - uSIDs fcbb:bb00:9f00:: to fcbb:bb00:9fff::\n",
      "Set [160] fcbb:bb00:a000::/40 - uSIDs fcbb:bb00:a000:: to fcbb:bb00:a0ff::\n",
      "Set [161] fcbb:bb00:a100::/40 - uSIDs fcbb:bb00:a100:: to fcbb:bb00:a1ff::\n",
      "Set [162] fcbb:bb00:a200::/40 - uSIDs fcbb:bb00:a200:: to fcbb:bb00:a2ff::\n",
      "Set [163] fcbb:bb00:a300::/40 - uSIDs fcbb:bb00:a300:: to fcbb:bb00:a3ff::\n",
      "Set [164] fcbb:bb00:a400::/40 - uSIDs fcbb:bb00:a400:: to fcbb:bb00:a4ff::\n",
      "Set [165] fcbb:bb00:a500::/40 - uSIDs fcbb:bb00:a500:: to fcbb:bb00:a5ff::\n",
      "Set [166] fcbb:bb00:a600::/40 - uSIDs fcbb:bb00:a600:: to fcbb:bb00:a6ff::\n",
      "Set [167] fcbb:bb00:a700::/40 - uSIDs fcbb:bb00:a700:: to fcbb:bb00:a7ff::\n",
      "Set [168] fcbb:bb00:a800::/40 - uSIDs fcbb:bb00:a800:: to fcbb:bb00:a8ff::\n",
      "Set [169] fcbb:bb00:a900::/40 - uSIDs fcbb:bb00:a900:: to fcbb:bb00:a9ff::\n",
      "Set [170] fcbb:bb00:aa00::/40 - uSIDs fcbb:bb00:aa00:: to fcbb:bb00:aaff::\n",
      "Set [171] fcbb:bb00:ab00::/40 - uSIDs fcbb:bb00:ab00:: to fcbb:bb00:abff::\n",
      "Set [172] fcbb:bb00:ac00::/40 - uSIDs fcbb:bb00:ac00:: to fcbb:bb00:acff::\n",
      "Set [173] fcbb:bb00:ad00::/40 - uSIDs fcbb:bb00:ad00:: to fcbb:bb00:adff::\n",
      "Set [174] fcbb:bb00:ae00::/40 - uSIDs fcbb:bb00:ae00:: to fcbb:bb00:aeff::\n",
      "Set [175] fcbb:bb00:af00::/40 - uSIDs fcbb:bb00:af00:: to fcbb:bb00:afff::\n",
      "Set [176] fcbb:bb00:b000::/40 - uSIDs fcbb:bb00:b000:: to fcbb:bb00:b0ff::\n",
      "Set [177] fcbb:bb00:b100::/40 - uSIDs fcbb:bb00:b100:: to fcbb:bb00:b1ff::\n",
      "Set [178] fcbb:bb00:b200::/40 - uSIDs fcbb:bb00:b200:: to fcbb:bb00:b2ff::\n",
      "Set [179] fcbb:bb00:b300::/40 - uSIDs fcbb:bb00:b300:: to fcbb:bb00:b3ff::\n",
      "Set [180] fcbb:bb00:b400::/40 - uSIDs fcbb:bb00:b400:: to fcbb:bb00:b4ff::\n",
      "Set [181] fcbb:bb00:b500::/40 - uSIDs fcbb:bb00:b500:: to fcbb:bb00:b5ff::\n",
      "Set [182] fcbb:bb00:b600::/40 - uSIDs fcbb:bb00:b600:: to fcbb:bb00:b6ff::\n",
      "Set [183] fcbb:bb00:b700::/40 - uSIDs fcbb:bb00:b700:: to fcbb:bb00:b7ff::\n",
      "Set [184] fcbb:bb00:b800::/40 - uSIDs fcbb:bb00:b800:: to fcbb:bb00:b8ff::\n",
      "Set [185] fcbb:bb00:b900::/40 - uSIDs fcbb:bb00:b900:: to fcbb:bb00:b9ff::\n",
      "Set [186] fcbb:bb00:ba00::/40 - uSIDs fcbb:bb00:ba00:: to fcbb:bb00:baff::\n",
      "Set [187] fcbb:bb00:bb00::/40 - uSIDs fcbb:bb00:bb00:: to fcbb:bb00:bbff::\n",
      "Set [188] fcbb:bb00:bc00::/40 - uSIDs fcbb:bb00:bc00:: to fcbb:bb00:bcff::\n",
      "Set [189] fcbb:bb00:bd00::/40 - uSIDs fcbb:bb00:bd00:: to fcbb:bb00:bdff::\n",
      "Set [190] fcbb:bb00:be00::/40 - uSIDs fcbb:bb00:be00:: to fcbb:bb00:beff::\n",
      "Set [191] fcbb:bb00:bf00::/40 - uSIDs fcbb:bb00:bf00:: to fcbb:bb00:bfff::\n",
      "Set [192] fcbb:bb00:c000::/40 - uSIDs fcbb:bb00:c000:: to fcbb:bb00:c0ff::\n",
      "Set [193] fcbb:bb00:c100::/40 - uSIDs fcbb:bb00:c100:: to fcbb:bb00:c1ff::\n",
      "Set [194] fcbb:bb00:c200::/40 - uSIDs fcbb:bb00:c200:: to fcbb:bb00:c2ff::\n",
      "Set [195] fcbb:bb00:c300::/40 - uSIDs fcbb:bb00:c300:: to fcbb:bb00:c3ff::\n",
      "Set [196] fcbb:bb00:c400::/40 - uSIDs fcbb:bb00:c400:: to fcbb:bb00:c4ff::\n",
      "Set [197] fcbb:bb00:c500::/40 - uSIDs fcbb:bb00:c500:: to fcbb:bb00:c5ff::\n",
      "Set [198] fcbb:bb00:c600::/40 - uSIDs fcbb:bb00:c600:: to fcbb:bb00:c6ff::\n",
      "Set [199] fcbb:bb00:c700::/40 - uSIDs fcbb:bb00:c700:: to fcbb:bb00:c7ff::\n"
     ]
    },
    {
     "name": "stdout",
     "output_type": "stream",
     "text": [
      "Set [200] fcbb:bb00:c800::/40 - uSIDs fcbb:bb00:c800:: to fcbb:bb00:c8ff::\n",
      "Set [201] fcbb:bb00:c900::/40 - uSIDs fcbb:bb00:c900:: to fcbb:bb00:c9ff::\n",
      "Set [202] fcbb:bb00:ca00::/40 - uSIDs fcbb:bb00:ca00:: to fcbb:bb00:caff::\n",
      "Set [203] fcbb:bb00:cb00::/40 - uSIDs fcbb:bb00:cb00:: to fcbb:bb00:cbff::\n",
      "Set [204] fcbb:bb00:cc00::/40 - uSIDs fcbb:bb00:cc00:: to fcbb:bb00:ccff::\n",
      "Set [205] fcbb:bb00:cd00::/40 - uSIDs fcbb:bb00:cd00:: to fcbb:bb00:cdff::\n",
      "Set [206] fcbb:bb00:ce00::/40 - uSIDs fcbb:bb00:ce00:: to fcbb:bb00:ceff::\n",
      "Set [207] fcbb:bb00:cf00::/40 - uSIDs fcbb:bb00:cf00:: to fcbb:bb00:cfff::\n",
      "Set [208] fcbb:bb00:d000::/40 - uSIDs fcbb:bb00:d000:: to fcbb:bb00:d0ff::\n",
      "Set [209] fcbb:bb00:d100::/40 - uSIDs fcbb:bb00:d100:: to fcbb:bb00:d1ff::\n",
      "Set [210] fcbb:bb00:d200::/40 - uSIDs fcbb:bb00:d200:: to fcbb:bb00:d2ff::\n",
      "Set [211] fcbb:bb00:d300::/40 - uSIDs fcbb:bb00:d300:: to fcbb:bb00:d3ff::\n",
      "Set [212] fcbb:bb00:d400::/40 - uSIDs fcbb:bb00:d400:: to fcbb:bb00:d4ff::\n",
      "Set [213] fcbb:bb00:d500::/40 - uSIDs fcbb:bb00:d500:: to fcbb:bb00:d5ff::\n",
      "Set [214] fcbb:bb00:d600::/40 - uSIDs fcbb:bb00:d600:: to fcbb:bb00:d6ff::\n",
      "Set [215] fcbb:bb00:d700::/40 - uSIDs fcbb:bb00:d700:: to fcbb:bb00:d7ff::\n",
      "Set [216] fcbb:bb00:d800::/40 - uSIDs fcbb:bb00:d800:: to fcbb:bb00:d8ff::\n",
      "Set [217] fcbb:bb00:d900::/40 - uSIDs fcbb:bb00:d900:: to fcbb:bb00:d9ff::\n",
      "Set [218] fcbb:bb00:da00::/40 - uSIDs fcbb:bb00:da00:: to fcbb:bb00:daff::\n",
      "Set [219] fcbb:bb00:db00::/40 - uSIDs fcbb:bb00:db00:: to fcbb:bb00:dbff::\n",
      "Set [220] fcbb:bb00:dc00::/40 - uSIDs fcbb:bb00:dc00:: to fcbb:bb00:dcff::\n",
      "Set [221] fcbb:bb00:dd00::/40 - uSIDs fcbb:bb00:dd00:: to fcbb:bb00:ddff::\n",
      "Set [222] fcbb:bb00:de00::/40 - uSIDs fcbb:bb00:de00:: to fcbb:bb00:deff::\n",
      "Set [223] fcbb:bb00:df00::/40 - uSIDs fcbb:bb00:df00:: to fcbb:bb00:dfff::\n"
     ]
    }
   ],
   "source": [
    "block0 = next(srv6_space.subnets(new_prefix=block_size))\n",
    "print(f'Set allocation example for Block [0] ({block0})')\n",
    "for idx, set_pfx in enumerate(ipaddress.IPv6Network(block0).subnets(new_prefix=set_size)):\n",
    "    usids = [usid.network_address \n",
    "             for usid in ipaddress.IPv6Network(set_pfx).subnets(new_prefix=block_size+usid_size)]\n",
    "    print(f'Set [{idx}] {set_pfx} - uSIDs {usids[0]} to {usids[-1]}')\n",
    "    if idx >= sets_per_gib-1:\n",
    "        break"
   ]
  },
  {
   "cell_type": "markdown",
   "id": "b2890396",
   "metadata": {},
   "source": [
    "----\n",
    "- Display more information about this uSID allocation."
   ]
  },
  {
   "cell_type": "code",
   "execution_count": 25,
   "id": "fd218c61",
   "metadata": {},
   "outputs": [
    {
     "name": "stdout",
     "output_type": "stream",
     "text": [
      "SRv6 Space prefix: fcbb:bb00::/24\n",
      "Number of /32 Blocks in this space: 63\n",
      "Number of /40 Sets per Block: 224\n",
      "Number of uSIDs per Set: 256\n",
      "Number of algos: 2\n",
      "Number of Blocks per algo: 31\n",
      "Number of leftover/unusable Blocks: 1\n",
      "Total number of uSIDs per Block: 57344\n",
      "Total number of uSIDs for all usable Blocks: 3555328\n",
      "Total number of uSIDs for all unusable Blocks: 57344\n"
     ]
    }
   ],
   "source": [
    "print(f'SRv6 Space prefix: {srv6_space}')\n",
    "print(f'Number of /{block_size} Blocks in this space: {nr_of_blocks}')\n",
    "print(f'Number of /{set_size} Sets per Block: {sets_per_gib}')\n",
    "print(f'Number of uSIDs per Set: {usids_per_set}')\n",
    "print(f'Number of algos: {nr_of_algos}')\n",
    "print(f'Number of Blocks per algo: {nr_of_blocks // nr_of_algos}')\n",
    "if nr_of_blocks % nr_of_algos:\n",
    "    print(f'Number of leftover/unusable Blocks: {nr_of_blocks % nr_of_algos}')\n",
    "print(f'Total number of uSIDs per Block: {usids_per_set * sets_per_gib}')\n",
    "#print(f'Total number of uSIDs for all Blocks: {usids_per_set * sets_per_gib * nr_of_blocks}')\n",
    "print(f'Total number of uSIDs for all usable Blocks: {usids_per_set * sets_per_gib * nr_of_algos * nr_of_blocks_per_algo}')\n",
    "print(f'Total number of uSIDs for all unusable Blocks: {usids_per_set * sets_per_gib * (nr_of_blocks - (nr_of_algos * nr_of_blocks_per_algo))}')"
   ]
  },
  {
   "cell_type": "markdown",
   "id": "1e8de178",
   "metadata": {},
   "source": [
    "----\n",
    "## Export data to excel"
   ]
  },
  {
   "cell_type": "code",
   "execution_count": 26,
   "id": "41a13223",
   "metadata": {},
   "outputs": [],
   "source": [
    "import xlsxwriter\n",
    "workbook = xlsxwriter.Workbook('/mnt/c/Users/kmichiel/uSID_allocation.xlsx')\n",
    "sheet_blocks = workbook.add_worksheet('Blocks')\n",
    "sheet_sets = workbook.add_worksheet('Sets')\n",
    "\n",
    "bold = workbook.add_format({'bold': True})\n",
    "\n",
    "# export Blocks\n",
    "row = col = 0\n",
    "sheet_blocks.write(row, col, 'Block ID', bold)\n",
    "sheet_blocks.write(row, col+1, 'Algo ID', bold)\n",
    "sheet_blocks.write(row, col+2, 'Block prefix', bold)\n",
    "row += 1\n",
    "algo_count = [0]*nr_of_algos\n",
    "for idx, block in enumerate(srv6_space.subnets(new_prefix=block_size)):\n",
    "    # which algo?\n",
    "    if algo_in_lsb:\n",
    "        algo = idx & (nr_of_algos - 1)\n",
    "    else:\n",
    "        algo = (idx >> (bits_for_blocks - bits_for_algos)) & (nr_of_algos - 1)\n",
    "    algo_count[algo] += 1\n",
    "    # reach max number of Blocks per algo?\n",
    "    if algo_count[algo] > (nr_of_blocks // nr_of_algos):\n",
    "        algo = \"leftover\"\n",
    "    sheet_blocks.write(row, col, idx)\n",
    "    sheet_blocks.write(row, col+1, algo)\n",
    "    sheet_blocks.write(row, col+2, str(block))\n",
    "    sheet_blocks.set_column('C:C', 30)\n",
    "    if idx >= nr_of_blocks-1:\n",
    "        break\n",
    "    row += 1\n",
    "\n",
    "# export Sets\n",
    "row = col = 0\n",
    "block0 = next(srv6_space.subnets(new_prefix=block_size))\n",
    "sheet_sets.write(row, col, f'Set allocation example for Block [0] ({str(block0)})')\n",
    "row += 1\n",
    "sheet_sets.write(row, col, 'Set ID', bold)\n",
    "sheet_sets.write(row, col+1, 'Set prefix', bold)\n",
    "sheet_sets.set_column('B:B', 30)\n",
    "sheet_sets.write(row, col+2, 'first uSID', bold)\n",
    "sheet_sets.set_column('C:C', 30)\n",
    "sheet_sets.write(row, col+3, 'last uSID', bold)\n",
    "sheet_sets.set_column('D:D', 30)\n",
    "row += 1\n",
    "for idx, set_pfx in enumerate(ipaddress.IPv6Network(block0).subnets(new_prefix=set_size)):\n",
    "    usids = [usid.network_address \n",
    "             for usid in ipaddress.IPv6Network(set_pfx).subnets(new_prefix=block_size+usid_size)]\n",
    "    sheet_sets.write(row, col, idx)\n",
    "    sheet_sets.write(row, col+1, str(set_pfx))\n",
    "    sheet_sets.write(row, col+2, str(usids[0]))\n",
    "    sheet_sets.write(row, col+3, str(usids[-1]))\n",
    "    if idx >= sets_per_gib-1:\n",
    "        break\n",
    "    row += 1\n",
    "\n",
    "workbook.close()"
   ]
  },
  {
   "cell_type": "code",
   "execution_count": null,
   "id": "0f0d01df",
   "metadata": {},
   "outputs": [],
   "source": []
  }
 ],
 "metadata": {
  "kernelspec": {
   "display_name": "Python 3 (ipykernel)",
   "language": "python",
   "name": "python3"
  },
  "language_info": {
   "codemirror_mode": {
    "name": "ipython",
    "version": 3
   },
   "file_extension": ".py",
   "mimetype": "text/x-python",
   "name": "python",
   "nbconvert_exporter": "python",
   "pygments_lexer": "ipython3",
   "version": "3.9.7"
  }
 },
 "nbformat": 4,
 "nbformat_minor": 5
}
